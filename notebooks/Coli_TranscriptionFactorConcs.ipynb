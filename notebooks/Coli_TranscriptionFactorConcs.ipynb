{
 "cells": [
  {
   "cell_type": "code",
   "execution_count": 1,
   "metadata": {},
   "outputs": [
    {
     "name": "stdout",
     "output_type": "stream",
     "text": [
      "/Users/flamholz/Documents/workspace/txn_factor_concs\n"
     ]
    }
   ],
   "source": [
    "cd .."
   ]
  },
  {
   "cell_type": "code",
   "execution_count": 2,
   "metadata": {},
   "outputs": [],
   "source": [
    "import pandas as pd\n",
    "import numpy as np\n",
    "import seaborn as sns\n",
    "from matplotlib import pyplot as plt"
   ]
  },
  {
   "cell_type": "markdown",
   "metadata": {},
   "source": [
    "# Distribution of TF Concentration in E. coli\n",
    "Data here is measured by Ribosome Profiling in Li et al. Cell 2014.\n",
    "https://pubmed.ncbi.nlm.nih.gov/24766808/"
   ]
  },
  {
   "cell_type": "code",
   "execution_count": 3,
   "metadata": {},
   "outputs": [],
   "source": [
    "rich_medium_df = pd.read_csv('data/proteomaps/Coli_Li2014/eco_Li_complete.csv', sep='\\t', skiprows=1)\n",
    "minimal_medium_df = pd.read_csv('data/proteomaps/Coli_Li2014/eco_Li_minimal.csv', sep='\\t', skiprows=1)"
   ]
  },
  {
   "cell_type": "code",
   "execution_count": 4,
   "metadata": {},
   "outputs": [
    {
     "data": {
      "text/html": [
       "<div>\n",
       "<style scoped>\n",
       "    .dataframe tbody tr th:only-of-type {\n",
       "        vertical-align: middle;\n",
       "    }\n",
       "\n",
       "    .dataframe tbody tr th {\n",
       "        vertical-align: top;\n",
       "    }\n",
       "\n",
       "    .dataframe thead th {\n",
       "        text-align: right;\n",
       "    }\n",
       "</style>\n",
       "<table border=\"1\" class=\"dataframe\">\n",
       "  <thead>\n",
       "    <tr style=\"text-align: right;\">\n",
       "      <th></th>\n",
       "      <th>!Protein:Identifier</th>\n",
       "      <th>!Abundance:[original]</th>\n",
       "      <th>!Abundance:[ppm]</th>\n",
       "      <th>!SizeWeightedAbundance:[original]</th>\n",
       "      <th>!SizeWeightedAbundance:[ppm]</th>\n",
       "      <th>!Protein:Size</th>\n",
       "      <th>!Protein:Name</th>\n",
       "      <th>!Identifiers:kegg.orthology</th>\n",
       "      <th>!Pathway</th>\n",
       "    </tr>\n",
       "  </thead>\n",
       "  <tbody>\n",
       "    <tr>\n",
       "      <th>8</th>\n",
       "      <td>b1339</td>\n",
       "      <td>26.0</td>\n",
       "      <td>4.620632</td>\n",
       "      <td>9100.0</td>\n",
       "      <td>5.490965</td>\n",
       "      <td>350.0</td>\n",
       "      <td>abgR</td>\n",
       "      <td>K14057</td>\n",
       "      <td>Transcription factors</td>\n",
       "    </tr>\n",
       "    <tr>\n",
       "      <th>32</th>\n",
       "      <td>b0464</td>\n",
       "      <td>87.0</td>\n",
       "      <td>15.461345</td>\n",
       "      <td>18705.0</td>\n",
       "      <td>11.286649</td>\n",
       "      <td>215.0</td>\n",
       "      <td>acrR</td>\n",
       "      <td>K03577</td>\n",
       "      <td>Transcription factors</td>\n",
       "    </tr>\n",
       "    <tr>\n",
       "      <th>35</th>\n",
       "      <td>b2213</td>\n",
       "      <td>15.0</td>\n",
       "      <td>2.665749</td>\n",
       "      <td>5310.0</td>\n",
       "      <td>3.204069</td>\n",
       "      <td>354.0</td>\n",
       "      <td>ada</td>\n",
       "      <td>K10778</td>\n",
       "      <td>Transcription factors</td>\n",
       "    </tr>\n",
       "    <tr>\n",
       "      <th>42</th>\n",
       "      <td>b4116</td>\n",
       "      <td>11.0</td>\n",
       "      <td>1.954883</td>\n",
       "      <td>2783.0</td>\n",
       "      <td>1.679270</td>\n",
       "      <td>253.0</td>\n",
       "      <td>adiY</td>\n",
       "      <td>K03755</td>\n",
       "      <td>Transcription factors</td>\n",
       "    </tr>\n",
       "    <tr>\n",
       "      <th>54</th>\n",
       "      <td>b3131</td>\n",
       "      <td>187.0</td>\n",
       "      <td>33.233006</td>\n",
       "      <td>50303.0</td>\n",
       "      <td>30.352969</td>\n",
       "      <td>269.0</td>\n",
       "      <td>agaR</td>\n",
       "      <td>K02081</td>\n",
       "      <td>Transcription factors</td>\n",
       "    </tr>\n",
       "  </tbody>\n",
       "</table>\n",
       "</div>"
      ],
      "text/plain": [
       "   !Protein:Identifier  !Abundance:[original]  !Abundance:[ppm]  \\\n",
       "8                b1339                   26.0          4.620632   \n",
       "32               b0464                   87.0         15.461345   \n",
       "35               b2213                   15.0          2.665749   \n",
       "42               b4116                   11.0          1.954883   \n",
       "54               b3131                  187.0         33.233006   \n",
       "\n",
       "    !SizeWeightedAbundance:[original]  !SizeWeightedAbundance:[ppm]  \\\n",
       "8                              9100.0                      5.490965   \n",
       "32                            18705.0                     11.286649   \n",
       "35                             5310.0                      3.204069   \n",
       "42                             2783.0                      1.679270   \n",
       "54                            50303.0                     30.352969   \n",
       "\n",
       "    !Protein:Size !Protein:Name !Identifiers:kegg.orthology  \\\n",
       "8           350.0          abgR                      K14057   \n",
       "32          215.0          acrR                      K03577   \n",
       "35          354.0           ada                      K10778   \n",
       "42          253.0          adiY                      K03755   \n",
       "54          269.0          agaR                      K02081   \n",
       "\n",
       "                 !Pathway  \n",
       "8   Transcription factors  \n",
       "32  Transcription factors  \n",
       "35  Transcription factors  \n",
       "42  Transcription factors  \n",
       "54  Transcription factors  "
      ]
     },
     "execution_count": 4,
     "metadata": {},
     "output_type": "execute_result"
    }
   ],
   "source": [
    "mask = np.logical_and(rich_medium_df['!Pathway'] == 'Transcription factors',\n",
    "                      rich_medium_df['!Abundance:[ppm]'] > 0)\n",
    "rich_tf_df = rich_medium_df[mask]\n",
    "\n",
    "mask = np.logical_and(minimal_medium_df['!Pathway'] == 'Transcription factors',\n",
    "                      minimal_medium_df['!Abundance:[ppm]'] > 0)\n",
    "minimal_tf_df = minimal_medium_df[mask]\n",
    "minimal_tf_df.head()"
   ]
  },
  {
   "cell_type": "code",
   "execution_count": 5,
   "metadata": {},
   "outputs": [
    {
     "data": {
      "image/png": "[encoded data removed]",
      "text/plain": [
       "<Figure size 432x288 with 1 Axes>"
      ]
     },
     "metadata": {},
     "output_type": "display_data"
    }
   ],
   "source": [
    "plt.figure()\n",
    "sns.histplot(\n",
    "    minimal_tf_df,\n",
    "    x=\"!Abundance:[ppm]\", \n",
    "    palette=\"light:m_r\",\n",
    "    edgecolor=\".3\",\n",
    "    linewidth=.5,\n",
    "    log_scale=True,\n",
    ")\n",
    "plt.xlabel('Abundance (ppm)')\n",
    "plt.ylabel('Number of TFs')\n",
    "plt.title('E. coli TF Abundances in Minimal Medium')\n",
    "\n",
    "plt.show()"
   ]
  },
  {
   "cell_type": "code",
   "execution_count": 6,
   "metadata": {},
   "outputs": [
    {
     "data": {
      "image/png": "[encoded data removed]",
      "text/plain": [
       "<Figure size 432x288 with 1 Axes>"
      ]
     },
     "metadata": {},
     "output_type": "display_data"
    }
   ],
   "source": [
    "plt.figure()\n",
    "sns.histplot(\n",
    "    rich_tf_df,\n",
    "    x=\"!Abundance:[ppm]\", \n",
    "    palette=\"light:m_r\",\n",
    "    edgecolor=\".3\",\n",
    "    linewidth=.5,\n",
    "    log_scale=True,\n",
    ")\n",
    "plt.xlabel('Abundance (ppm)')\n",
    "plt.ylabel('Number of TFs')\n",
    "plt.title('E. coli TF Abundances in Rich Medium')\n",
    "\n",
    "plt.show()"
   ]
  },
  {
   "cell_type": "code",
   "execution_count": null,
   "metadata": {},
   "outputs": [],
   "source": []
  }
 ],
 "metadata": {
  "kernelspec": {
   "display_name": "Python 3",
   "language": "python",
   "name": "python3"
  },
  "language_info": {
   "codemirror_mode": {
    "name": "ipython",
    "version": 3
   },
   "file_extension": ".py",
   "mimetype": "text/x-python",
   "name": "python",
   "nbconvert_exporter": "python",
   "pygments_lexer": "ipython3",
   "version": "3.6.5"
  }
 },
 "nbformat": 4,
 "nbformat_minor": 4
}
