{
 "cells": [
  {
   "cell_type": "code",
   "execution_count": 1,
   "metadata": {},
   "outputs": [
    {
     "name": "stdout",
     "output_type": "stream",
     "text": [
      "/Users/flamholz/Documents/workspace/txn_factor_concs\n"
     ]
    }
   ],
   "source": [
    "cd .."
   ]
  },
  {
   "cell_type": "code",
   "execution_count": 2,
   "metadata": {},
   "outputs": [],
   "source": [
    "import pandas as pd\n",
    "import numpy as np\n",
    "import seaborn as sns\n",
    "from matplotlib import pyplot as plt"
   ]
  },
  {
   "cell_type": "markdown",
   "metadata": {},
   "source": [
    "# Distribution of TF Concentration in S. cerevisiae\n",
    "Data here is measured by Mass Spec in Lu et al. Nat. Biotech 2007. Measurements appears to have lower dynamic range than ribosome profiling. I am sure there is ribosome profiling data for yeast, but it's not on the proteomaps website.\n",
    "https://pubmed.ncbi.nlm.nih.gov/17187058/"
   ]
  },
  {
   "cell_type": "code",
   "execution_count": 3,
   "metadata": {},
   "outputs": [
    {
     "data": {
      "text/html": [
       "<div>\n",
       "<style scoped>\n",
       "    .dataframe tbody tr th:only-of-type {\n",
       "        vertical-align: middle;\n",
       "    }\n",
       "\n",
       "    .dataframe tbody tr th {\n",
       "        vertical-align: top;\n",
       "    }\n",
       "\n",
       "    .dataframe thead th {\n",
       "        text-align: right;\n",
       "    }\n",
       "</style>\n",
       "<table border=\"1\" class=\"dataframe\">\n",
       "  <thead>\n",
       "    <tr style=\"text-align: right;\">\n",
       "      <th></th>\n",
       "      <th>!ProteinIdentifier</th>\n",
       "      <th>!Abundance[original])</th>\n",
       "      <th>!Abundance[ppm]</th>\n",
       "      <th>!SizeWeightedAbundance[original]</th>\n",
       "      <th>!SizeWeightedAbundance[ppm]</th>\n",
       "      <th>!ProteinSize</th>\n",
       "      <th>!ProteinName</th>\n",
       "      <th>!Identifiers:kegg.orthology</th>\n",
       "      <th>!Pathway</th>\n",
       "    </tr>\n",
       "  </thead>\n",
       "  <tbody>\n",
       "    <tr>\n",
       "      <th>0</th>\n",
       "      <td>YHR174W</td>\n",
       "      <td>3055113.0</td>\n",
       "      <td>61102.245336</td>\n",
       "      <td>1.335084e+09</td>\n",
       "      <td>76949.703189</td>\n",
       "      <td>437.0</td>\n",
       "      <td>Eno2</td>\n",
       "      <td>K01689</td>\n",
       "      <td>Glycolysis</td>\n",
       "    </tr>\n",
       "    <tr>\n",
       "      <th>1</th>\n",
       "      <td>YKL060C</td>\n",
       "      <td>2044661.0</td>\n",
       "      <td>40893.210186</td>\n",
       "      <td>7.340333e+08</td>\n",
       "      <td>42307.171416</td>\n",
       "      <td>359.0</td>\n",
       "      <td>Fba1</td>\n",
       "      <td>K01624</td>\n",
       "      <td>Glycolysis</td>\n",
       "    </tr>\n",
       "    <tr>\n",
       "      <th>2</th>\n",
       "      <td>YGR192C</td>\n",
       "      <td>2003699.0</td>\n",
       "      <td>40073.970382</td>\n",
       "      <td>6.652281e+08</td>\n",
       "      <td>38341.473048</td>\n",
       "      <td>332.0</td>\n",
       "      <td>Tdh3</td>\n",
       "      <td>K00134</td>\n",
       "      <td>Glycolysis</td>\n",
       "    </tr>\n",
       "    <tr>\n",
       "      <th>3</th>\n",
       "      <td>YCR012W</td>\n",
       "      <td>1898620.0</td>\n",
       "      <td>37972.390887</td>\n",
       "      <td>7.898259e+08</td>\n",
       "      <td>45522.867405</td>\n",
       "      <td>416.0</td>\n",
       "      <td>Pgk1</td>\n",
       "      <td>K00927</td>\n",
       "      <td>Glycolysis</td>\n",
       "    </tr>\n",
       "    <tr>\n",
       "      <th>4</th>\n",
       "      <td>YGR254W</td>\n",
       "      <td>1842521.0</td>\n",
       "      <td>36850.411156</td>\n",
       "      <td>8.051817e+08</td>\n",
       "      <td>46407.920944</td>\n",
       "      <td>437.0</td>\n",
       "      <td>Eno1</td>\n",
       "      <td>K01689</td>\n",
       "      <td>Glycolysis</td>\n",
       "    </tr>\n",
       "  </tbody>\n",
       "</table>\n",
       "</div>"
      ],
      "text/plain": [
       "  !ProteinIdentifier  !Abundance[original])  !Abundance[ppm]  \\\n",
       "0            YHR174W              3055113.0     61102.245336   \n",
       "1            YKL060C              2044661.0     40893.210186   \n",
       "2            YGR192C              2003699.0     40073.970382   \n",
       "3            YCR012W              1898620.0     37972.390887   \n",
       "4            YGR254W              1842521.0     36850.411156   \n",
       "\n",
       "   !SizeWeightedAbundance[original]  !SizeWeightedAbundance[ppm]  \\\n",
       "0                      1.335084e+09                 76949.703189   \n",
       "1                      7.340333e+08                 42307.171416   \n",
       "2                      6.652281e+08                 38341.473048   \n",
       "3                      7.898259e+08                 45522.867405   \n",
       "4                      8.051817e+08                 46407.920944   \n",
       "\n",
       "   !ProteinSize !ProteinName !Identifiers:kegg.orthology    !Pathway  \n",
       "0         437.0         Eno2                      K01689  Glycolysis  \n",
       "1         359.0         Fba1                      K01624  Glycolysis  \n",
       "2         332.0         Tdh3                      K00134  Glycolysis  \n",
       "3         416.0         Pgk1                      K00927  Glycolysis  \n",
       "4         437.0         Eno1                      K01689  Glycolysis  "
      ]
     },
     "execution_count": 3,
     "metadata": {},
     "output_type": "execute_result"
    }
   ],
   "source": [
    "rich_medium_df = pd.read_csv('data/proteomaps/Yeast_Lu2007/sce_Lu_rich.csv', sep='\\t', skiprows=1)\n",
    "minimal_medium_df = pd.read_csv('data/proteomaps/Yeast_Lu2007/sce_Lu_rich.csv', sep='\\t', skiprows=1)\n",
    "rich_medium_df.head()"
   ]
  },
  {
   "cell_type": "code",
   "execution_count": 4,
   "metadata": {},
   "outputs": [
    {
     "data": {
      "text/html": [
       "<div>\n",
       "<style scoped>\n",
       "    .dataframe tbody tr th:only-of-type {\n",
       "        vertical-align: middle;\n",
       "    }\n",
       "\n",
       "    .dataframe tbody tr th {\n",
       "        vertical-align: top;\n",
       "    }\n",
       "\n",
       "    .dataframe thead th {\n",
       "        text-align: right;\n",
       "    }\n",
       "</style>\n",
       "<table border=\"1\" class=\"dataframe\">\n",
       "  <thead>\n",
       "    <tr style=\"text-align: right;\">\n",
       "      <th></th>\n",
       "      <th>!ProteinIdentifier</th>\n",
       "      <th>!Abundance[original])</th>\n",
       "      <th>!Abundance[ppm]</th>\n",
       "      <th>!SizeWeightedAbundance[original]</th>\n",
       "      <th>!SizeWeightedAbundance[ppm]</th>\n",
       "      <th>!ProteinSize</th>\n",
       "      <th>!ProteinName</th>\n",
       "      <th>!Identifiers:kegg.orthology</th>\n",
       "      <th>!Pathway</th>\n",
       "    </tr>\n",
       "  </thead>\n",
       "  <tbody>\n",
       "    <tr>\n",
       "      <th>340</th>\n",
       "      <td>YLR182W</td>\n",
       "      <td>7548.0</td>\n",
       "      <td>150.959964</td>\n",
       "      <td>6061044.0</td>\n",
       "      <td>349.337867</td>\n",
       "      <td>803.0</td>\n",
       "      <td>Swi6</td>\n",
       "      <td>K06648</td>\n",
       "      <td>Transcription factors</td>\n",
       "    </tr>\n",
       "    <tr>\n",
       "      <th>352</th>\n",
       "      <td>YNL216W</td>\n",
       "      <td>6892.0</td>\n",
       "      <td>137.839967</td>\n",
       "      <td>5699684.0</td>\n",
       "      <td>328.510311</td>\n",
       "      <td>827.0</td>\n",
       "      <td>Rap1</td>\n",
       "      <td>K09426</td>\n",
       "      <td>Transcription factors</td>\n",
       "    </tr>\n",
       "    <tr>\n",
       "      <th>436</th>\n",
       "      <td>YEL009C</td>\n",
       "      <td>4615.0</td>\n",
       "      <td>92.299978</td>\n",
       "      <td>1296815.0</td>\n",
       "      <td>74.743986</td>\n",
       "      <td>281.0</td>\n",
       "      <td>Gcn4</td>\n",
       "      <td>K09464</td>\n",
       "      <td>Transcription factors</td>\n",
       "    </tr>\n",
       "    <tr>\n",
       "      <th>439</th>\n",
       "      <td>YKL179C</td>\n",
       "      <td>4591.0</td>\n",
       "      <td>91.819978</td>\n",
       "      <td>3117289.0</td>\n",
       "      <td>179.669887</td>\n",
       "      <td>679.0</td>\n",
       "      <td>Coy1</td>\n",
       "      <td>K09313</td>\n",
       "      <td>Transcription factors</td>\n",
       "    </tr>\n",
       "    <tr>\n",
       "      <th>475</th>\n",
       "      <td>YDL106C</td>\n",
       "      <td>3959.0</td>\n",
       "      <td>79.179981</td>\n",
       "      <td>2213081.0</td>\n",
       "      <td>127.554427</td>\n",
       "      <td>559.0</td>\n",
       "      <td>Pho2</td>\n",
       "      <td>K02646</td>\n",
       "      <td>Transcription factors</td>\n",
       "    </tr>\n",
       "  </tbody>\n",
       "</table>\n",
       "</div>"
      ],
      "text/plain": [
       "    !ProteinIdentifier  !Abundance[original])  !Abundance[ppm]  \\\n",
       "340            YLR182W                 7548.0       150.959964   \n",
       "352            YNL216W                 6892.0       137.839967   \n",
       "436            YEL009C                 4615.0        92.299978   \n",
       "439            YKL179C                 4591.0        91.819978   \n",
       "475            YDL106C                 3959.0        79.179981   \n",
       "\n",
       "     !SizeWeightedAbundance[original]  !SizeWeightedAbundance[ppm]  \\\n",
       "340                         6061044.0                   349.337867   \n",
       "352                         5699684.0                   328.510311   \n",
       "436                         1296815.0                    74.743986   \n",
       "439                         3117289.0                   179.669887   \n",
       "475                         2213081.0                   127.554427   \n",
       "\n",
       "     !ProteinSize !ProteinName !Identifiers:kegg.orthology  \\\n",
       "340         803.0         Swi6                      K06648   \n",
       "352         827.0         Rap1                      K09426   \n",
       "436         281.0         Gcn4                      K09464   \n",
       "439         679.0         Coy1                      K09313   \n",
       "475         559.0         Pho2                      K02646   \n",
       "\n",
       "                  !Pathway  \n",
       "340  Transcription factors  \n",
       "352  Transcription factors  \n",
       "436  Transcription factors  \n",
       "439  Transcription factors  \n",
       "475  Transcription factors  "
      ]
     },
     "execution_count": 4,
     "metadata": {},
     "output_type": "execute_result"
    }
   ],
   "source": [
    "mask = np.logical_and(rich_medium_df['!Pathway'] == 'Transcription factors',\n",
    "                      rich_medium_df['!Abundance[ppm]'] > 0)\n",
    "rich_tf_df = rich_medium_df[mask]\n",
    "\n",
    "mask = np.logical_and(minimal_medium_df['!Pathway'] == 'Transcription factors',\n",
    "                      minimal_medium_df['!Abundance[ppm]'] > 0)\n",
    "minimal_tf_df = minimal_medium_df[mask]\n",
    "minimal_tf_df.head()"
   ]
  },
  {
   "cell_type": "code",
   "execution_count": 5,
   "metadata": {},
   "outputs": [
    {
     "data": {
      "image/png": "[encoded data removed]",
      "text/plain": [
       "<Figure size 432x288 with 1 Axes>"
      ]
     },
     "metadata": {},
     "output_type": "display_data"
    }
   ],
   "source": [
    "plt.figure()\n",
    "sns.histplot(\n",
    "    minimal_tf_df,\n",
    "    x=\"!Abundance[ppm]\", \n",
    "    palette=\"light:m_r\",\n",
    "    edgecolor=\".3\",\n",
    "    linewidth=.5,\n",
    "    log_scale=True,\n",
    ")\n",
    "plt.xlabel('Abundance (ppm)')\n",
    "plt.ylabel('Number of TFs')\n",
    "plt.title('S. cerevisiae TF Abundances in Minimal Medium')\n",
    "\n",
    "plt.show()"
   ]
  },
  {
   "cell_type": "code",
   "execution_count": 6,
   "metadata": {},
   "outputs": [
    {
     "data": {
      "image/png": "[encoded data removed]",
      "text/plain": [
       "<Figure size 432x288 with 1 Axes>"
      ]
     },
     "metadata": {},
     "output_type": "display_data"
    }
   ],
   "source": [
    "plt.figure()\n",
    "sns.histplot(\n",
    "    rich_tf_df,\n",
    "    x=\"!Abundance[ppm]\", \n",
    "    palette=\"light:m_r\",\n",
    "    edgecolor=\".3\",\n",
    "    linewidth=.5,\n",
    "    log_scale=True,\n",
    ")\n",
    "plt.xlabel('Abundance (ppm)')\n",
    "plt.ylabel('Number of TFs')\n",
    "plt.title('S. cerevisiae TF Abundances in Rich Medium')\n",
    "\n",
    "plt.show()"
   ]
  },
  {
   "cell_type": "markdown",
   "metadata": {},
   "source": [
    "# Trying a second data set\n",
    "Using mass spec data from Nagaraj et al. Mol. Cell. Proteomics 2012 to check if newer methods have greater dynamic range, which indeed they appear to. Above there was roughly 1 O.M. dynamic range in both rich and minimal medium, but in the more recent paper the dynamic range of measurements is increased to 4 O.M."
   ]
  },
  {
   "cell_type": "code",
   "execution_count": 7,
   "metadata": {},
   "outputs": [],
   "source": [
    "rich_medium_df = pd.read_csv('data/proteomaps/Yeast_Nagaraj2012/sce_Nagaraj.csv', sep='\\t', skiprows=1)\n",
    "mask = np.logical_and(rich_medium_df['!Pathway'] == 'Transcription factors',\n",
    "                      rich_medium_df['!Abundance[ppm]'] > 0)\n",
    "rich_tf_df = rich_medium_df[mask]"
   ]
  },
  {
   "cell_type": "code",
   "execution_count": 8,
   "metadata": {},
   "outputs": [
    {
     "data": {
      "image/png": "[encoded data removed]",
      "text/plain": [
       "<Figure size 432x288 with 1 Axes>"
      ]
     },
     "metadata": {},
     "output_type": "display_data"
    }
   ],
   "source": [
    "plt.figure()\n",
    "sns.histplot(\n",
    "    rich_tf_df,\n",
    "    x=\"!Abundance[ppm]\", \n",
    "    palette=\"light:m_r\",\n",
    "    edgecolor=\".3\",\n",
    "    linewidth=.5,\n",
    "    log_scale=True,\n",
    ")\n",
    "plt.xlabel('Abundance (ppm)')\n",
    "plt.ylabel('Number of TFs')\n",
    "plt.title('S. cerevisiae TF Abundances in Rich Medium')\n",
    "\n",
    "plt.show()"
   ]
  },
  {
   "cell_type": "code",
   "execution_count": null,
   "metadata": {},
   "outputs": [],
   "source": []
  }
 ],
 "metadata": {
  "kernelspec": {
   "display_name": "Python 3",
   "language": "python",
   "name": "python3"
  },
  "language_info": {
   "codemirror_mode": {
    "name": "ipython",
    "version": 3
   },
   "file_extension": ".py",
   "mimetype": "text/x-python",
   "name": "python",
   "nbconvert_exporter": "python",
   "pygments_lexer": "ipython3",
   "version": "3.6.5"
  }
 },
 "nbformat": 4,
 "nbformat_minor": 4
}
